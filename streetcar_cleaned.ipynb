{
 "cells": [
  {
   "cell_type": "code",
   "execution_count": 1,
   "id": "a016f9ee-c03f-486f-bb61-2684f03a0d5f",
   "metadata": {},
   "outputs": [],
   "source": [
    "import pandas as pd\n",
    "import numpy as np\n",
    "from string import punctuation\n",
    "from datetime import datetime\n",
    "import matplotlib.pyplot as plt\n",
    "import seaborn as sns\n",
    "import re\n",
    "import os\n",
    "from rapidfuzz import fuzz, process"
   ]
  },
  {
   "cell_type": "code",
   "execution_count": 2,
   "id": "f3381dc9-fe24-4039-8003-2887d532bf45",
   "metadata": {},
   "outputs": [],
   "source": [
    "streetcar_df = pd.read_csv('ttc-streetcar-delay-data-2024.csv')\n",
    "stops_df = pd.read_csv('stops.csv')"
   ]
  },
  {
   "cell_type": "code",
   "execution_count": 3,
   "id": "5edc6a43-c9d6-4eeb-8447-1594e976909a",
   "metadata": {},
   "outputs": [],
   "source": [
    "streetcar_df.columns = [s.strip().replace(' ','_') for s in streetcar_df.columns]\n",
    "streetcar_df.rename(columns={'Bound': 'Direction'}, inplace=True)\n",
    "streetcar_df.rename(columns={'Line': 'Route'}, inplace=True)\n",
    "stops_df.rename(columns={'stop_lat': 'Latitude'}, inplace=True)\n",
    "stops_df.rename(columns={'stop_lon': 'Longtitude'}, inplace=True)\n",
    "streetcar_df['TransportType'] = 'StreetCar'\n",
    "streetcar_df = streetcar_df.drop( columns = ['Min_Gap'])"
   ]
  },
  {
   "cell_type": "code",
   "execution_count": 4,
   "id": "2a0571ef-4e45-4950-8af7-bc4efc3c7ff7",
   "metadata": {},
   "outputs": [
    {
     "data": {
      "text/html": [
       "<div>\n",
       "<style scoped>\n",
       "    .dataframe tbody tr th:only-of-type {\n",
       "        vertical-align: middle;\n",
       "    }\n",
       "\n",
       "    .dataframe tbody tr th {\n",
       "        vertical-align: top;\n",
       "    }\n",
       "\n",
       "    .dataframe thead th {\n",
       "        text-align: right;\n",
       "    }\n",
       "</style>\n",
       "<table border=\"1\" class=\"dataframe\">\n",
       "  <thead>\n",
       "    <tr style=\"text-align: right;\">\n",
       "      <th></th>\n",
       "      <th>Date</th>\n",
       "      <th>Route</th>\n",
       "      <th>Time</th>\n",
       "      <th>Day</th>\n",
       "      <th>Location</th>\n",
       "      <th>Incident</th>\n",
       "      <th>Min_Delay</th>\n",
       "      <th>Direction</th>\n",
       "      <th>Vehicle</th>\n",
       "      <th>TransportType</th>\n",
       "    </tr>\n",
       "  </thead>\n",
       "  <tbody>\n",
       "    <tr>\n",
       "      <th>0</th>\n",
       "      <td>1-Jan-24</td>\n",
       "      <td>505</td>\n",
       "      <td>02:45</td>\n",
       "      <td>Monday</td>\n",
       "      <td>DUNDAS AND MCCAUL</td>\n",
       "      <td>Security</td>\n",
       "      <td>10</td>\n",
       "      <td>W</td>\n",
       "      <td>4416</td>\n",
       "      <td>StreetCar</td>\n",
       "    </tr>\n",
       "    <tr>\n",
       "      <th>1</th>\n",
       "      <td>1-Jan-24</td>\n",
       "      <td>505</td>\n",
       "      <td>03:06</td>\n",
       "      <td>Monday</td>\n",
       "      <td>COLLEGE AND GLADSTONE</td>\n",
       "      <td>Emergency Services</td>\n",
       "      <td>52</td>\n",
       "      <td>E</td>\n",
       "      <td>4461</td>\n",
       "      <td>StreetCar</td>\n",
       "    </tr>\n",
       "    <tr>\n",
       "      <th>2</th>\n",
       "      <td>1-Jan-24</td>\n",
       "      <td>503</td>\n",
       "      <td>03:21</td>\n",
       "      <td>Monday</td>\n",
       "      <td>PARLIAMENT AND SHUTTER</td>\n",
       "      <td>Security</td>\n",
       "      <td>0</td>\n",
       "      <td>N</td>\n",
       "      <td>4545</td>\n",
       "      <td>StreetCar</td>\n",
       "    </tr>\n",
       "    <tr>\n",
       "      <th>3</th>\n",
       "      <td>1-Jan-24</td>\n",
       "      <td>505</td>\n",
       "      <td>03:53</td>\n",
       "      <td>Monday</td>\n",
       "      <td>DUNDAS WEST STATION</td>\n",
       "      <td>Security</td>\n",
       "      <td>37</td>\n",
       "      <td>W</td>\n",
       "      <td>4551</td>\n",
       "      <td>StreetCar</td>\n",
       "    </tr>\n",
       "    <tr>\n",
       "      <th>4</th>\n",
       "      <td>1-Jan-24</td>\n",
       "      <td>600</td>\n",
       "      <td>04:27</td>\n",
       "      <td>Monday</td>\n",
       "      <td>QUEEN AND BATHURST</td>\n",
       "      <td>Diversion</td>\n",
       "      <td>78</td>\n",
       "      <td>E</td>\n",
       "      <td>8116</td>\n",
       "      <td>StreetCar</td>\n",
       "    </tr>\n",
       "  </tbody>\n",
       "</table>\n",
       "</div>"
      ],
      "text/plain": [
       "       Date Route   Time     Day                Location            Incident  \\\n",
       "0  1-Jan-24   505  02:45  Monday       DUNDAS AND MCCAUL            Security   \n",
       "1  1-Jan-24   505  03:06  Monday   COLLEGE AND GLADSTONE  Emergency Services   \n",
       "2  1-Jan-24   503  03:21  Monday  PARLIAMENT AND SHUTTER            Security   \n",
       "3  1-Jan-24   505  03:53  Monday     DUNDAS WEST STATION            Security   \n",
       "4  1-Jan-24   600  04:27  Monday      QUEEN AND BATHURST           Diversion   \n",
       "\n",
       "   Min_Delay Direction  Vehicle TransportType  \n",
       "0         10         W     4416     StreetCar  \n",
       "1         52         E     4461     StreetCar  \n",
       "2          0         N     4545     StreetCar  \n",
       "3         37         W     4551     StreetCar  \n",
       "4         78         E     8116     StreetCar  "
      ]
     },
     "execution_count": 4,
     "metadata": {},
     "output_type": "execute_result"
    }
   ],
   "source": [
    "streetcar_df.head()"
   ]
  },
  {
   "cell_type": "code",
   "execution_count": 5,
   "id": "cdd8588a-e568-4ee6-990f-e5346194631b",
   "metadata": {},
   "outputs": [
    {
     "data": {
      "text/plain": [
       "Date              274\n",
       "Route              38\n",
       "Time             1435\n",
       "Day                 7\n",
       "Location         1819\n",
       "Incident           13\n",
       "Min_Delay         197\n",
       "Direction           6\n",
       "Vehicle          1076\n",
       "TransportType       1\n",
       "dtype: int64"
      ]
     },
     "execution_count": 5,
     "metadata": {},
     "output_type": "execute_result"
    }
   ],
   "source": [
    "streetcar_df.nunique()"
   ]
  },
  {
   "cell_type": "markdown",
   "id": "a316f19d-e31f-499d-9bbf-012b4ec6b954",
   "metadata": {},
   "source": [
    "### 1.1 Missing Values"
   ]
  },
  {
   "cell_type": "code",
   "execution_count": 6,
   "id": "883c745a-b1e0-4e32-b40f-a0bc7f9534eb",
   "metadata": {},
   "outputs": [
    {
     "data": {
      "text/plain": [
       "Date                0\n",
       "Route             120\n",
       "Time                0\n",
       "Day                 0\n",
       "Location            1\n",
       "Incident            0\n",
       "Min_Delay           0\n",
       "Direction        1540\n",
       "Vehicle             0\n",
       "TransportType       0\n",
       "dtype: int64"
      ]
     },
     "execution_count": 6,
     "metadata": {},
     "output_type": "execute_result"
    }
   ],
   "source": [
    "streetcar_df.isnull().sum()"
   ]
  },
  {
   "cell_type": "markdown",
   "id": "1b22113a-4f41-45c4-953e-08b894221bc6",
   "metadata": {},
   "source": [
    "### 1.2 Date Formatting "
   ]
  },
  {
   "cell_type": "code",
   "execution_count": 7,
   "id": "c08e6110-224c-4441-8a36-c41d0a2a5c78",
   "metadata": {},
   "outputs": [],
   "source": [
    "# Function to split the date\n",
    "def split_date(date_str):\n",
    "    # Convert the date string to a datetime object\n",
    "    # Check if date is in 1-Jan-24 format\n",
    "    if re.match(r\"\\d{1,2}-[A-Za-z]{3,4}-\\d{2}\", date_str):\n",
    "        date_obj = pd.to_datetime(date_str, format='%d-%b-%y')\n",
    "    # Check if date is in 2024-01-01 format\n",
    "    elif re.match(r\"\\d{4}-\\d{2}-\\d{2}\", date_str):\n",
    "        date_obj = pd.to_datetime(date_str, format='%Y-%m-%d')\n",
    "    else:\n",
    "        raise ValueError(f\"Unknown date format: {date_str}\")\n",
    "\n",
    "    # Extract day, month, and year\n",
    "    day = date_obj.day\n",
    "    month = date_obj.month\n",
    "    year = date_obj.year\n",
    "   \n",
    "    # Standardize to DD-MM-YYYY\n",
    "    return datetime(year, month, day).strftime(\"%d-%m-%Y\")"
   ]
  },
  {
   "cell_type": "code",
   "execution_count": 8,
   "id": "9324714e-664d-46a0-a43c-c495db4de12e",
   "metadata": {},
   "outputs": [],
   "source": [
    "streetcar_df.loc[:, 'Date'] = streetcar_df.loc[:,'Date'].apply(split_date)"
   ]
  },
  {
   "cell_type": "raw",
   "id": "19a05737-9c74-4c43-8b6e-dffd62b31e60",
   "metadata": {},
   "source": [
    "streetcar_df[['Month_date', 'Month', 'Year']] = streetcar_df['Date'].apply(split_date)"
   ]
  },
  {
   "cell_type": "raw",
   "id": "f2f21544-da22-475f-89ef-3afbe388c99a",
   "metadata": {},
   "source": [
    "streetcar_df['min'] = streetcar_df['Time'].apply(lambda x: int(x.split(':')[1]))"
   ]
  },
  {
   "cell_type": "markdown",
   "id": "1d0a70de-9660-4d2b-9d48-a85159391d10",
   "metadata": {},
   "source": [
    "### 1.3 Delays"
   ]
  },
  {
   "cell_type": "code",
   "execution_count": 9,
   "id": "9604b424-371e-4371-a849-d71b34da13dd",
   "metadata": {},
   "outputs": [],
   "source": [
    "# on time is 0 mins delays\n",
    "# short delay is 1 to 15 mins.\n",
    "# medium delay is 15 to 30 mins.\n",
    "# long delay is more than 30 mins.\n",
    "def delay_type(col):\n",
    "    if col == 0 :\n",
    "        return 'on-time'\n",
    "    elif col >= 1 and col <= 15:\n",
    "        return 'short'\n",
    "    elif col > 15 and col <= 30:\n",
    "        return 'medium'\n",
    "    elif col > 30:\n",
    "        return 'long'\n",
    "\n",
    "# apply delay_type function\n",
    "streetcar_df['delay_type'] = streetcar_df['Min_Delay'].apply(delay_type)"
   ]
  },
  {
   "cell_type": "code",
   "execution_count": 10,
   "id": "4089fbec-68e5-4e47-8fc7-695e491cff8b",
   "metadata": {},
   "outputs": [
    {
     "data": {
      "image/png": "[encoded data removed]",
      "text/plain": [
       "<Figure size 600x400 with 1 Axes>"
      ]
     },
     "metadata": {},
     "output_type": "display_data"
    }
   ],
   "source": [
    "datasets = [streetcar_df]\n",
    "titles = ['Bus Delay Types']\n",
    "delay_type_order = ['on-time', 'short', 'medium', 'long']\n",
    "\n",
    "# Loop through each dataset and create a separate plot\n",
    "for i, df in enumerate(datasets):\n",
    "    plt.figure(figsize=(6, 4))\n",
    "    sns.countplot(x='delay_type', data=df, order=delay_type_order)\n",
    "    plt.title(f'Frequency of Different {titles[i]}')\n",
    "    plt.tight_layout()\n",
    "    plt.show()"
   ]
  },
  {
   "cell_type": "markdown",
   "id": "a1755dc4-bd11-4874-9e3a-8ff368729a6a",
   "metadata": {},
   "source": [
    "### 1.4 Filtering out Irrelevent Directions"
   ]
  },
  {
   "cell_type": "code",
   "execution_count": 11,
   "id": "7584c71f-61e1-4006-bf12-4235db226461",
   "metadata": {},
   "outputs": [],
   "source": [
    "# function to simplify direction in to N,S,E,W,B and NaN.\n",
    "def direction_filter(direction):\n",
    "    # convert all lowercase characters to uppercase, replace punctuations with empty space and remove leading and the trailing spaces.\n",
    "    direction = str(direction).upper().replace(rf'[{punctuation}]', '').strip()\n",
    "    if 'N' in direction:\n",
    "        return 'N'\n",
    "    elif 'S' in direction:\n",
    "        return 'S'\n",
    "    elif 'E' in direction:\n",
    "        return 'E'\n",
    "    elif 'W' in direction:\n",
    "        return 'W'\n",
    "    elif 'B' in direction:\n",
    "        return 'B'\n",
    "    else:\n",
    "        'NaN'\n",
    "\n",
    "streetcar_df['Direction'] = streetcar_df['Direction'].apply(direction_filter)"
   ]
  },
  {
   "cell_type": "code",
   "execution_count": 12,
   "id": "a83b4003-36aa-4d54-a997-eb316a98fb9f",
   "metadata": {},
   "outputs": [
    {
     "data": {
      "image/png": "[encoded data removed]",
      "text/plain": [
       "<Figure size 600x400 with 1 Axes>"
      ]
     },
     "metadata": {},
     "output_type": "display_data"
    }
   ],
   "source": [
    "datasets = [streetcar_df]\n",
    "titles = ['Bus Direction Types']\n",
    "Direction_order = ['N', 'S', 'E', 'W', 'B']\n",
    "\n",
    "for i, df in enumerate(datasets):\n",
    "    plt.figure(figsize=(6, 4))\n",
    "    sns.countplot(x='Direction', data=df, order=Direction_order)\n",
    "    plt.title(f'Frequency of Different {titles[i]}')\n",
    "    plt.tight_layout()\n",
    "    plt.show()"
   ]
  },
  {
   "cell_type": "code",
   "execution_count": 13,
   "id": "3da5aa50-524b-4ef1-ad01-280e3a9427d3",
   "metadata": {},
   "outputs": [],
   "source": [
    "streetcar_df = streetcar_df.dropna(subset = ['Route', 'Location', 'Direction'])"
   ]
  },
  {
   "cell_type": "code",
   "execution_count": 14,
   "id": "e84b09f4-ac42-4583-ae67-cd48169b3138",
   "metadata": {},
   "outputs": [
    {
     "data": {
      "text/plain": [
       "Date             0\n",
       "Route            0\n",
       "Time             0\n",
       "Day              0\n",
       "Location         0\n",
       "Incident         0\n",
       "Min_Delay        0\n",
       "Direction        0\n",
       "Vehicle          0\n",
       "TransportType    0\n",
       "delay_type       0\n",
       "dtype: int64"
      ]
     },
     "execution_count": 14,
     "metadata": {},
     "output_type": "execute_result"
    }
   ],
   "source": [
    "streetcar_df.isnull().sum()"
   ]
  },
  {
   "cell_type": "markdown",
   "id": "30d7c30a-696f-4206-8548-9a4c50cd25b0",
   "metadata": {},
   "source": [
    "### Joining columns of stops.csv & bus data"
   ]
  },
  {
   "cell_type": "code",
   "execution_count": 15,
   "id": "e6aa118b-b5c5-4b23-bf6a-b4e02ce36ffc",
   "metadata": {},
   "outputs": [],
   "source": [
    "stops_df = stops_df.drop(columns=['stop_id', 'stop_code','stop_desc', 'zone_id', 'stop_url', 'location_type', 'parent_station', 'stop_timezone'])"
   ]
  },
  {
   "cell_type": "markdown",
   "id": "99f56020-654f-4cdc-a32a-9278ff73b366",
   "metadata": {},
   "source": [
    "### Normalizing text in both datasets"
   ]
  },
  {
   "cell_type": "code",
   "execution_count": 16,
   "id": "e0fd5276-a383-44a5-b8ab-8ac7ae38d10a",
   "metadata": {},
   "outputs": [
    {
     "name": "stderr",
     "output_type": "stream",
     "text": [
      "C:\\Users\\Jugal Patel\\AppData\\Local\\Temp\\ipykernel_18368\\3601545013.py:21: SettingWithCopyWarning: \n",
      "A value is trying to be set on a copy of a slice from a DataFrame.\n",
      "Try using .loc[row_indexer,col_indexer] = value instead\n",
      "\n",
      "See the caveats in the documentation: https://pandas.pydata.org/pandas-docs/stable/user_guide/indexing.html#returning-a-view-versus-a-copy\n",
      "  streetcar_df.loc[:, 'Normalized_Location'] = streetcar_df.loc[:,'Location'].apply(normalize_text)\n"
     ]
    }
   ],
   "source": [
    "#from rapidfuzz import fuzz, process\n",
    "\n",
    "# Function to normalize text (expand abbreviations and remove unnecessary words)\n",
    "def normalize_text(text):\n",
    "    text = text.lower()\n",
    "    text = text.replace(' st ', ' ')\n",
    "    text = text.replace(' ave ', ' ')\n",
    "    text = text.replace(' avenue ', ' ')\n",
    "    text = text.replace(' street ', ' ')\n",
    "    text = text.replace(' at ', ' ')\n",
    "    text = text.replace(' and ', ' ')\n",
    "    text = text.replace(' side ', ' ')\n",
    "    text = text.replace(' hwy ', ' highway ')    \n",
    "    text = text.replace(' east ', ' ')\n",
    "    text = text.replace(' west ', ' ')\n",
    "    text = text.replace(' north ', ' ')\n",
    "    text = text.replace(' south ', ' ')\n",
    "    return text.strip()\n",
    "\n",
    "# Normalize the relevant columns\n",
    "streetcar_df.loc[:, 'Normalized_Location'] = streetcar_df.loc[:,'Location'].apply(normalize_text)\n",
    "stops_df.loc[:, 'Normalized_stop_name'] = stops_df.loc[:,'stop_name'].apply(normalize_text)"
   ]
  },
  {
   "cell_type": "markdown",
   "id": "e2d20af1-6f77-49f2-8ac1-7bd0d966a8a7",
   "metadata": {},
   "source": [
    "### Using fuzzy matching"
   ]
  },
  {
   "cell_type": "code",
   "execution_count": 17,
   "id": "77b28a48-7cd5-485c-b599-910f4bdb26de",
   "metadata": {},
   "outputs": [],
   "source": [
    "# Perform fuzzy matching for unmatched records\n",
    "def fuzzy_match(location, stop_names, threshold=80):\n",
    "    match = process.extractOne(location, stop_names, scorer=fuzz.token_set_ratio)\n",
    "    if match and match[1] >= threshold:\n",
    "        return match[0]  # Return the best match if similarity exceeds the threshold\n",
    "    return None"
   ]
  },
  {
   "cell_type": "code",
   "execution_count": 18,
   "id": "af9e65f2-cbe3-4135-b8a1-9d0572942de4",
   "metadata": {},
   "outputs": [
    {
     "name": "stderr",
     "output_type": "stream",
     "text": [
      "C:\\Users\\Jugal Patel\\AppData\\Local\\Temp\\ipykernel_18368\\3450373901.py:5: SettingWithCopyWarning: \n",
      "A value is trying to be set on a copy of a slice from a DataFrame.\n",
      "Try using .loc[row_indexer,col_indexer] = value instead\n",
      "\n",
      "See the caveats in the documentation: https://pandas.pydata.org/pandas-docs/stable/user_guide/indexing.html#returning-a-view-versus-a-copy\n",
      "  streetcar_df.loc[:, 'Fuzzy_stop_name'] = streetcar_df.loc[:, 'Normalized_Location'].apply(\n"
     ]
    }
   ],
   "source": [
    "# Create a list of normalized stop names for matching\n",
    "normalized_stop_names = stops_df['Normalized_stop_name'].tolist()\n",
    "\n",
    "# Apply fuzzy matching\n",
    "streetcar_df.loc[:, 'Fuzzy_stop_name'] = streetcar_df.loc[:, 'Normalized_Location'].apply(\n",
    "    lambda x: fuzzy_match(x, normalized_stop_names)\n",
    ")"
   ]
  },
  {
   "cell_type": "code",
   "execution_count": 19,
   "id": "f0d8dafe-0692-4b8e-953a-46f6ab662bd7",
   "metadata": {},
   "outputs": [],
   "source": [
    "# Select required columns from streetcar_df and stops_df\n",
    "bus_columns = ['Date', 'TransportType', 'Route', 'Time', 'Day', 'Location', 'Incident', 'Min_Delay',\n",
    "               'Direction', 'Vehicle', 'delay_type', 'Fuzzy_stop_name']\n",
    "stops_columns = ['Latitude', 'Longtitude', 'wheelchair_boarding']\n",
    "\n",
    "# Merge the datasets while retaining all records from streetcar_df and matched stop details\n",
    "merged_data_fuzzy = pd.merge(\n",
    "    streetcar_df[bus_columns],\n",
    "    stops_df[stops_columns + ['Normalized_stop_name']],\n",
    "    left_on='Fuzzy_stop_name',\n",
    "    right_on='Normalized_stop_name',\n",
    "    how='left'\n",
    ")"
   ]
  },
  {
   "cell_type": "code",
   "execution_count": 20,
   "id": "1e904921-4dee-4a69-8e2c-587b6da9cdf5",
   "metadata": {},
   "outputs": [],
   "source": [
    "# Check unmatched records\n",
    "unmatched_fuzzy_records = merged_data_fuzzy[merged_data_fuzzy['Normalized_stop_name'].isna()]\n",
    "unmatched_fuzzy_count = unmatched_fuzzy_records.shape[0]"
   ]
  },
  {
   "cell_type": "code",
   "execution_count": 21,
   "id": "1d915eb5-fcc7-4f36-8855-dd28092a0387",
   "metadata": {},
   "outputs": [
    {
     "data": {
      "text/plain": [
       "1830"
      ]
     },
     "execution_count": 21,
     "metadata": {},
     "output_type": "execute_result"
    }
   ],
   "source": [
    "unmatched_fuzzy_count"
   ]
  },
  {
   "cell_type": "raw",
   "id": "b1072273-91aa-4249-8a46-196b80d867e5",
   "metadata": {},
   "source": [
    "unmatched_fuzzy_records.to_csv('Unmatched_Fuzzy_Records_3591.csv', index=False)"
   ]
  },
  {
   "cell_type": "code",
   "execution_count": 22,
   "id": "3d344661-67aa-4038-baaa-b4ea429d0ca0",
   "metadata": {},
   "outputs": [],
   "source": [
    "# Drop 'Normalized_stop_name' & 'Fuzzy_stop_name' since it's not required in the final output\n",
    "merged_data_fuzzy.drop(columns=['Normalized_stop_name', 'Fuzzy_stop_name'], inplace=True)"
   ]
  },
  {
   "cell_type": "code",
   "execution_count": 24,
   "id": "7ba09f41-88c9-4514-8a49-fd545312b021",
   "metadata": {},
   "outputs": [
    {
     "name": "stdout",
     "output_type": "stream",
     "text": [
      "Cleaned bus dataset saved with 17003 records.\n"
     ]
    }
   ],
   "source": [
    "# Filter out unmatched records\n",
    "cleaned_streetcar_df = merged_data_fuzzy[~merged_data_fuzzy['Latitude'].isna()]\n",
    "\n",
    "# Save the cleaned dataset\n",
    "cleaned_streetcar_df.to_csv('C:\\\\Users\\\\Jugal Patel\\\\Desktop\\\\Capstone project\\\\Data_cleaning\\\\Merged_streetcar.csv', index=False)\n",
    "\n",
    "print(f\"Cleaned bus dataset saved with {cleaned_streetcar_df.shape[0]} records.\")"
   ]
  },
  {
   "cell_type": "code",
   "execution_count": 26,
   "id": "5a08a73a-1f30-4a36-9f1a-99d72ed6a947",
   "metadata": {},
   "outputs": [
    {
     "data": {
      "text/html": [
       "<div>\n",
       "<style scoped>\n",
       "    .dataframe tbody tr th:only-of-type {\n",
       "        vertical-align: middle;\n",
       "    }\n",
       "\n",
       "    .dataframe tbody tr th {\n",
       "        vertical-align: top;\n",
       "    }\n",
       "\n",
       "    .dataframe thead th {\n",
       "        text-align: right;\n",
       "    }\n",
       "</style>\n",
       "<table border=\"1\" class=\"dataframe\">\n",
       "  <thead>\n",
       "    <tr style=\"text-align: right;\">\n",
       "      <th></th>\n",
       "      <th>Date</th>\n",
       "      <th>TransportType</th>\n",
       "      <th>Route</th>\n",
       "      <th>Time</th>\n",
       "      <th>Day</th>\n",
       "      <th>Location</th>\n",
       "      <th>Incident</th>\n",
       "      <th>Min_Delay</th>\n",
       "      <th>Direction</th>\n",
       "      <th>Vehicle</th>\n",
       "      <th>delay_type</th>\n",
       "      <th>Latitude</th>\n",
       "      <th>Longtitude</th>\n",
       "      <th>wheelchair_boarding</th>\n",
       "    </tr>\n",
       "  </thead>\n",
       "  <tbody>\n",
       "    <tr>\n",
       "      <th>0</th>\n",
       "      <td>01-01-2024</td>\n",
       "      <td>StreetCar</td>\n",
       "      <td>505</td>\n",
       "      <td>02:45</td>\n",
       "      <td>Monday</td>\n",
       "      <td>DUNDAS AND MCCAUL</td>\n",
       "      <td>Security</td>\n",
       "      <td>10</td>\n",
       "      <td>W</td>\n",
       "      <td>4416</td>\n",
       "      <td>short</td>\n",
       "      <td>43.654219</td>\n",
       "      <td>-79.391552</td>\n",
       "      <td>2.0</td>\n",
       "    </tr>\n",
       "    <tr>\n",
       "      <th>1</th>\n",
       "      <td>01-01-2024</td>\n",
       "      <td>StreetCar</td>\n",
       "      <td>505</td>\n",
       "      <td>03:06</td>\n",
       "      <td>Monday</td>\n",
       "      <td>COLLEGE AND GLADSTONE</td>\n",
       "      <td>Emergency Services</td>\n",
       "      <td>52</td>\n",
       "      <td>E</td>\n",
       "      <td>4461</td>\n",
       "      <td>long</td>\n",
       "      <td>NaN</td>\n",
       "      <td>NaN</td>\n",
       "      <td>NaN</td>\n",
       "    </tr>\n",
       "    <tr>\n",
       "      <th>2</th>\n",
       "      <td>01-01-2024</td>\n",
       "      <td>StreetCar</td>\n",
       "      <td>503</td>\n",
       "      <td>03:21</td>\n",
       "      <td>Monday</td>\n",
       "      <td>PARLIAMENT AND SHUTTER</td>\n",
       "      <td>Security</td>\n",
       "      <td>0</td>\n",
       "      <td>N</td>\n",
       "      <td>4545</td>\n",
       "      <td>on-time</td>\n",
       "      <td>43.656843</td>\n",
       "      <td>-79.364855</td>\n",
       "      <td>1.0</td>\n",
       "    </tr>\n",
       "    <tr>\n",
       "      <th>3</th>\n",
       "      <td>01-01-2024</td>\n",
       "      <td>StreetCar</td>\n",
       "      <td>503</td>\n",
       "      <td>03:21</td>\n",
       "      <td>Monday</td>\n",
       "      <td>PARLIAMENT AND SHUTTER</td>\n",
       "      <td>Security</td>\n",
       "      <td>0</td>\n",
       "      <td>N</td>\n",
       "      <td>4545</td>\n",
       "      <td>on-time</td>\n",
       "      <td>43.657021</td>\n",
       "      <td>-79.365124</td>\n",
       "      <td>1.0</td>\n",
       "    </tr>\n",
       "    <tr>\n",
       "      <th>4</th>\n",
       "      <td>01-01-2024</td>\n",
       "      <td>StreetCar</td>\n",
       "      <td>505</td>\n",
       "      <td>03:53</td>\n",
       "      <td>Monday</td>\n",
       "      <td>DUNDAS WEST STATION</td>\n",
       "      <td>Security</td>\n",
       "      <td>37</td>\n",
       "      <td>W</td>\n",
       "      <td>4551</td>\n",
       "      <td>long</td>\n",
       "      <td>43.656196</td>\n",
       "      <td>-79.380763</td>\n",
       "      <td>1.0</td>\n",
       "    </tr>\n",
       "  </tbody>\n",
       "</table>\n",
       "</div>"
      ],
      "text/plain": [
       "         Date TransportType Route   Time     Day                Location  \\\n",
       "0  01-01-2024     StreetCar   505  02:45  Monday       DUNDAS AND MCCAUL   \n",
       "1  01-01-2024     StreetCar   505  03:06  Monday   COLLEGE AND GLADSTONE   \n",
       "2  01-01-2024     StreetCar   503  03:21  Monday  PARLIAMENT AND SHUTTER   \n",
       "3  01-01-2024     StreetCar   503  03:21  Monday  PARLIAMENT AND SHUTTER   \n",
       "4  01-01-2024     StreetCar   505  03:53  Monday     DUNDAS WEST STATION   \n",
       "\n",
       "             Incident  Min_Delay Direction  Vehicle delay_type   Latitude  \\\n",
       "0            Security         10         W     4416      short  43.654219   \n",
       "1  Emergency Services         52         E     4461       long        NaN   \n",
       "2            Security          0         N     4545    on-time  43.656843   \n",
       "3            Security          0         N     4545    on-time  43.657021   \n",
       "4            Security         37         W     4551       long  43.656196   \n",
       "\n",
       "   Longtitude  wheelchair_boarding  \n",
       "0  -79.391552                  2.0  \n",
       "1         NaN                  NaN  \n",
       "2  -79.364855                  1.0  \n",
       "3  -79.365124                  1.0  \n",
       "4  -79.380763                  1.0  "
      ]
     },
     "execution_count": 26,
     "metadata": {},
     "output_type": "execute_result"
    }
   ],
   "source": [
    "merged_data_fuzzy.head()"
   ]
  },
  {
   "cell_type": "code",
   "execution_count": null,
   "id": "e76c1c13-abd8-47a5-883c-6bb9af83ed4f",
   "metadata": {},
   "outputs": [],
   "source": []
  }
 ],
 "metadata": {
  "kernelspec": {
   "display_name": "Python 3 (ipykernel)",
   "language": "python",
   "name": "python3"
  },
  "language_info": {
   "codemirror_mode": {
    "name": "ipython",
    "version": 3
   },
   "file_extension": ".py",
   "mimetype": "text/x-python",
   "name": "python",
   "nbconvert_exporter": "python",
   "pygments_lexer": "ipython3",
   "version": "3.11.7"
  }
 },
 "nbformat": 4,
 "nbformat_minor": 5
}
