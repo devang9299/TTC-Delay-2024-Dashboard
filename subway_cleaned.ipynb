{
 "cells": [
  {
   "cell_type": "code",
   "execution_count": 1,
   "id": "b42dd9e1-9c9c-436a-9989-8332e22595b5",
   "metadata": {},
   "outputs": [],
   "source": [
    "import pandas as pd\n",
    "import numpy as np\n",
    "from string import punctuation\n",
    "from datetime import datetime\n",
    "import matplotlib.pyplot as plt\n",
    "import seaborn as sns\n",
    "import re\n",
    "import os\n",
    "from rapidfuzz import fuzz, process"
   ]
  },
  {
   "cell_type": "code",
   "execution_count": 2,
   "id": "4d201b5b-b7fa-4dd8-857a-6986bcb3bd66",
   "metadata": {},
   "outputs": [],
   "source": [
    "subway_df = pd.read_csv('ttc-subway-delay-data-2024.csv')\n",
    "stations = pd.read_csv('subway_station_gps.csv')"
   ]
  },
  {
   "cell_type": "raw",
   "id": "c962d82e-9bc6-4f32-8ed0-89a377f1467a",
   "metadata": {},
   "source": [
    "['Date', 'TransportType', 'Route', 'Time', 'Day', 'Location', 'Incident', 'Min_Delay', 'Direction', 'Vehicle', 'delay_type', 'Latitude', 'Longtitude', 'wheelchair_boarding']"
   ]
  },
  {
   "cell_type": "code",
   "execution_count": 3,
   "id": "9993be13-71f8-4fa9-8f50-ff258553012e",
   "metadata": {},
   "outputs": [],
   "source": [
    "subway_df.columns = [s.strip().replace(' ','_') for s in subway_df.columns]\n",
    "subway_df.rename(columns={'Bound': 'Direction'}, inplace=True)\n",
    "subway_df.rename(columns={'Line': 'Route'}, inplace=True)\n",
    "subway_df.rename(columns={'Station': 'Location'}, inplace=True)\n",
    "subway_df['TransportType'] = 'Subway'\n",
    "subway_df['Incident'] = 'Subway'\n",
    "stations['wheelchair_boarding'] = 1\n",
    "subway_df = subway_df.drop(columns = ['Min_Gap'])\n",
    "subway_df = subway_df.drop(columns = ['Code'])"
   ]
  },
  {
   "cell_type": "code",
   "execution_count": 4,
   "id": "881137ff-8f54-41f0-8b2b-20270b893332",
   "metadata": {},
   "outputs": [
    {
     "name": "stdout",
     "output_type": "stream",
     "text": [
      "<class 'pandas.core.frame.DataFrame'>\n",
      "RangeIndex: 19702 entries, 0 to 19701\n",
      "Data columns (total 10 columns):\n",
      " #   Column         Non-Null Count  Dtype \n",
      "---  ------         --------------  ----- \n",
      " 0   Date           19702 non-null  object\n",
      " 1   Time           19702 non-null  object\n",
      " 2   Day            19702 non-null  object\n",
      " 3   Location       19702 non-null  object\n",
      " 4   Min_Delay      19702 non-null  int64 \n",
      " 5   Direction      12736 non-null  object\n",
      " 6   Route          19674 non-null  object\n",
      " 7   Vehicle        19702 non-null  int64 \n",
      " 8   TransportType  19702 non-null  object\n",
      " 9   Incident       19702 non-null  object\n",
      "dtypes: int64(2), object(8)\n",
      "memory usage: 1.5+ MB\n"
     ]
    }
   ],
   "source": [
    "subway_df.info()"
   ]
  },
  {
   "cell_type": "code",
   "execution_count": 5,
   "id": "1876eba2-1f1e-42da-9886-1040c085e8af",
   "metadata": {},
   "outputs": [],
   "source": [
    "Line_To_Include = [\"YU\",\"BD\",\"SRT\",\"SHP\"]"
   ]
  },
  {
   "cell_type": "code",
   "execution_count": 6,
   "id": "419099b8-9f48-441d-a727-0ea5df84c3d0",
   "metadata": {},
   "outputs": [],
   "source": [
    "# Remove rows \n",
    "subway_df = subway_df[subway_df[\"Route\"].isin(Line_To_Include)]"
   ]
  },
  {
   "cell_type": "code",
   "execution_count": 7,
   "id": "4facef0a-5f84-4cbe-913e-d9519e1c600a",
   "metadata": {},
   "outputs": [
    {
     "data": {
      "text/plain": [
       "Date              274\n",
       "Time             1412\n",
       "Day                 7\n",
       "Location          368\n",
       "Min_Delay          95\n",
       "Direction           5\n",
       "Route               4\n",
       "Vehicle           722\n",
       "TransportType       1\n",
       "Incident            1\n",
       "dtype: int64"
      ]
     },
     "execution_count": 7,
     "metadata": {},
     "output_type": "execute_result"
    }
   ],
   "source": [
    "subway_df.nunique()"
   ]
  },
  {
   "cell_type": "markdown",
   "id": "9ae1970f-e30f-4dd3-b442-118732524e8d",
   "metadata": {},
   "source": [
    "## 1.1 Missing Values"
   ]
  },
  {
   "cell_type": "code",
   "execution_count": 8,
   "id": "78260fbb-ee38-43cf-910d-c92439852d5f",
   "metadata": {},
   "outputs": [
    {
     "data": {
      "text/plain": [
       "Date                0\n",
       "Time                0\n",
       "Day                 0\n",
       "Location            0\n",
       "Min_Delay           0\n",
       "Direction        6652\n",
       "Route               0\n",
       "Vehicle             0\n",
       "TransportType       0\n",
       "Incident            0\n",
       "dtype: int64"
      ]
     },
     "execution_count": 8,
     "metadata": {},
     "output_type": "execute_result"
    }
   ],
   "source": [
    "subway_df.isnull().sum()"
   ]
  },
  {
   "cell_type": "code",
   "execution_count": 9,
   "id": "a55aa5cb-3805-408c-98dc-ca5368425958",
   "metadata": {},
   "outputs": [],
   "source": [
    "## 1.2 Date and Time Formatting "
   ]
  },
  {
   "cell_type": "code",
   "execution_count": 10,
   "id": "26826cb6-ab4a-40dd-aa3e-1af548e3e19c",
   "metadata": {},
   "outputs": [],
   "source": [
    "# Function to split the date\n",
    "def split_date(date_str):\n",
    "    # Convert the date string to a datetime object\n",
    "    # Check if date is in 1-Jan-24 format\n",
    "    if re.match(r\"\\d{1,2}-[A-Za-z]{3,4}-\\d{2}\", date_str):\n",
    "        date_obj = pd.to_datetime(date_str, format='%d-%b-%y')\n",
    "    # Check if date is in 2024-01-01 format\n",
    "    elif re.match(r\"\\d{4}-\\d{2}-\\d{2}\", date_str):\n",
    "        date_obj = pd.to_datetime(date_str, format='%Y-%m-%d')\n",
    "    else:\n",
    "        raise ValueError(f\"Unknown date format: {date_str}\")\n",
    "\n",
    "    # Extract day, month, and year\n",
    "    day = date_obj.day\n",
    "    month = date_obj.month\n",
    "    year = date_obj.year\n",
    "\n",
    "    # Standardize to DD-MM-YYYY\n",
    "    return datetime(year, month, day).strftime(\"%d-%m-%Y\")"
   ]
  },
  {
   "cell_type": "code",
   "execution_count": 11,
   "id": "ae1680db-61ef-4573-b1a7-6baec9cee738",
   "metadata": {},
   "outputs": [],
   "source": [
    "subway_df.loc[:, 'Date'] = subway_df.loc[:,'Date'].apply(split_date)"
   ]
  },
  {
   "cell_type": "raw",
   "id": "e92a0008-571f-48ac-aa96-f74922c8bb9b",
   "metadata": {},
   "source": [
    "subway_df[['Month_date', 'Month', 'Year']] = subway_df['Date'].apply(split_date)"
   ]
  },
  {
   "cell_type": "raw",
   "id": "a6b6ecd4-fa4a-4491-8fcb-eb24d8f5655f",
   "metadata": {},
   "source": [
    "subway_df['min'] = subway_df['Time'].apply(lambda x: int(x.split(':')[1]))"
   ]
  },
  {
   "cell_type": "markdown",
   "id": "226daefb-5370-4e0f-8d22-574f0852e6ef",
   "metadata": {},
   "source": [
    "## 1.3 Delays"
   ]
  },
  {
   "cell_type": "code",
   "execution_count": 12,
   "id": "b09d596b-69c5-48f8-9f5b-986fc0203288",
   "metadata": {},
   "outputs": [],
   "source": [
    "# on time is 0 mins delays\n",
    "# short delay is 1 to 15 mins.\n",
    "# medium delay is 15 to 30 mins.\n",
    "# long delay is more than 30 mins.\n",
    "def delay_type(col):\n",
    "    if col == 0 :\n",
    "        return 'on-time'\n",
    "    elif col >= 1 and col <= 15:\n",
    "        return 'short'\n",
    "    elif col > 15 and col <= 30:\n",
    "        return 'medium'\n",
    "    elif col > 30:\n",
    "        return 'long'\n",
    "\n",
    "# apply delay_type function\n",
    "subway_df.loc[:, 'delay_type'] = subway_df.loc[:,'Min_Delay'].apply(delay_type)"
   ]
  },
  {
   "cell_type": "markdown",
   "id": "4bb26d99-c646-4e8f-aba4-6063d1f59ef0",
   "metadata": {},
   "source": [
    "## 1.4 Filtering out Irrelevent Directions"
   ]
  },
  {
   "cell_type": "code",
   "execution_count": 13,
   "id": "47a9b33c-acc5-4d6e-ac90-c3c61e3f47c4",
   "metadata": {},
   "outputs": [],
   "source": [
    "# function to simplify direction in to N,S,E,W,B and NaN.\n",
    "def direction_filter(direction):\n",
    "    # convert all lowercase characters to uppercase, replace punctuations with empty space and remove leading and the trailing spaces.\n",
    "    direction = str(direction).upper().replace(rf'[{punctuation}]', '').strip()\n",
    "    if 'N' in direction:\n",
    "        return 'N'\n",
    "    elif 'S' in direction:\n",
    "        return 'S'\n",
    "    elif 'E' in direction:\n",
    "        return 'E'\n",
    "    elif 'W' in direction:\n",
    "        return 'W'\n",
    "    elif 'B' in direction:\n",
    "        return 'B'\n",
    "    else:\n",
    "        'NaN'\n",
    "\n",
    "subway_df.loc[:,'Direction'] = subway_df.loc[:,'Direction'].apply(direction_filter)"
   ]
  },
  {
   "cell_type": "code",
   "execution_count": 14,
   "id": "c3bc988e-0312-410d-8e03-10c01eb8e3b5",
   "metadata": {},
   "outputs": [
    {
     "data": {
      "image/png": "[encoded data removed]",
      "text/plain": [
       "<Figure size 600x400 with 1 Axes>"
      ]
     },
     "metadata": {},
     "output_type": "display_data"
    }
   ],
   "source": [
    "datasets = [subway_df]\n",
    "titles = ['Bus Direction Types', 'Subway Direction Types', 'Streetcar Direction Types']\n",
    "Direction_order = ['N', 'S', 'E', 'W', 'B']\n",
    "\n",
    "for i, df in enumerate(datasets):\n",
    "    plt.figure(figsize=(6, 4))\n",
    "    sns.countplot(x='Direction', data=df, order=Direction_order)\n",
    "    plt.title(f'Frequency of Different {titles[i]}')\n",
    "    plt.tight_layout()\n",
    "    plt.show()"
   ]
  },
  {
   "cell_type": "code",
   "execution_count": 15,
   "id": "86ab788b-b8da-4bc3-9c8e-58868fd49aa0",
   "metadata": {},
   "outputs": [
    {
     "data": {
      "text/plain": [
       "Date             0\n",
       "Time             0\n",
       "Day              0\n",
       "Location         0\n",
       "Min_Delay        0\n",
       "Direction        0\n",
       "Route            0\n",
       "Vehicle          0\n",
       "TransportType    0\n",
       "Incident         0\n",
       "delay_type       0\n",
       "dtype: int64"
      ]
     },
     "execution_count": 15,
     "metadata": {},
     "output_type": "execute_result"
    }
   ],
   "source": [
    "subway_df.isnull().sum()"
   ]
  },
  {
   "cell_type": "markdown",
   "id": "82787f75-4912-4f58-974f-496165dad859",
   "metadata": {},
   "source": [
    "### Normalizing text in both datasets"
   ]
  },
  {
   "cell_type": "code",
   "execution_count": 16,
   "id": "22c22141-30ca-4bd6-83c7-9e7c528e75f1",
   "metadata": {},
   "outputs": [],
   "source": [
    "# Standardize the case for matching\n",
    "subway_df.loc[:, 'Station_lower'] = subway_df.loc[:, 'Location'].str.lower()\n",
    "stations.loc[:, 'Station_name_lower'] = stations.loc[:, 'Station_name'].str.lower()"
   ]
  },
  {
   "cell_type": "code",
   "execution_count": 17,
   "id": "70ad4c8a-0eba-41ff-9ce8-e345aa1c5e38",
   "metadata": {},
   "outputs": [],
   "source": [
    "#from rapidfuzz import fuzz, process\n",
    "\n",
    "# Function to normalize text (expand abbreviations and remove unnecessary words)\n",
    "def normalize_text(text):\n",
    "    text = text.lower()\n",
    "    text = text.replace(' station ', ' ')\n",
    "    text = text.replace(' at ', ' ')\n",
    "    text = text.replace(' and ', ' ')\n",
    "    text = text.replace(' - ', ' ')\n",
    "    text = text.replace(' c ', ' ')\n",
    "    text = text.replace(' bd ', ' ')\n",
    "    return text.strip()\n",
    "\n",
    "# Normalize the relevant columns\n",
    "subway_df.loc[:, 'Normalized_Station'] = subway_df.loc[:, 'Station_lower'].apply(normalize_text)\n",
    "stations.loc[:, 'Normalized_Station'] = stations.loc[:, 'Station_name_lower'].apply(normalize_text)"
   ]
  },
  {
   "cell_type": "markdown",
   "id": "b9265bc5-3c7a-41a4-8499-d5f50d73af85",
   "metadata": {},
   "source": [
    "### Using fuzzy matching"
   ]
  },
  {
   "cell_type": "code",
   "execution_count": 18,
   "id": "afb12485-1032-458b-ac87-9db05826d0ff",
   "metadata": {},
   "outputs": [],
   "source": [
    "# Perform fuzzy matching for unmatched records\n",
    "def fuzzy_match(location, stop_names, threshold=80):\n",
    "    match = process.extractOne(location, stop_names, scorer=fuzz.token_set_ratio)\n",
    "    if match and match[1] >= threshold:\n",
    "        return match[0]  # Return the best match if similarity exceeds the threshold\n",
    "    return None"
   ]
  },
  {
   "cell_type": "code",
   "execution_count": 19,
   "id": "e995d5cd-f9c1-425a-ac08-8814a71be9e1",
   "metadata": {},
   "outputs": [],
   "source": [
    "# Create a list of normalized stations names for matching\n",
    "normalized_stations = stations['Normalized_Station'].tolist()\n",
    "\n",
    "# Apply fuzzy matching to Clean_bus.csv\n",
    "subway_df['Fuzzy_stations'] = subway_df['Normalized_Station'].apply(\n",
    "    lambda x: fuzzy_match(x, normalized_stations)\n",
    ")\n",
    "\n",
    "# Merge the datasets while retaining all records from bus_df and matched stop details\n",
    "subway_columns = ['Date', 'TransportType', 'Route', 'Time', 'Day', 'Location', 'Incident', 'Min_Delay', 'Direction', 'Vehicle', 'delay_type', 'Fuzzy_stations']\n",
    "location_columns = ['Latitude', 'Longtitude', 'wheelchair_boarding']\n",
    "\n",
    "final_merged_df = pd.merge(\n",
    "    subway_df[subway_columns],\n",
    "    stations[location_columns + ['Normalized_Station']],\n",
    "    left_on='Fuzzy_stations',\n",
    "    right_on='Normalized_Station',\n",
    "    how='left'\n",
    ")"
   ]
  },
  {
   "cell_type": "markdown",
   "id": "f544ee40-5746-45a2-bff6-254f14a4e57f",
   "metadata": {},
   "source": [
    "### File merging of subway_station_gps.csv"
   ]
  },
  {
   "cell_type": "code",
   "execution_count": 20,
   "id": "afa26dce-50db-4274-ac82-6a7eb04440fc",
   "metadata": {},
   "outputs": [
    {
     "name": "stdout",
     "output_type": "stream",
     "text": [
      "<class 'pandas.core.frame.DataFrame'>\n",
      "Index: 19380 entries, 0 to 19701\n",
      "Data columns (total 14 columns):\n",
      " #   Column              Non-Null Count  Dtype \n",
      "---  ------              --------------  ----- \n",
      " 0   Date                19380 non-null  object\n",
      " 1   Time                19380 non-null  object\n",
      " 2   Day                 19380 non-null  object\n",
      " 3   Location            19380 non-null  object\n",
      " 4   Min_Delay           19380 non-null  int64 \n",
      " 5   Direction           19380 non-null  object\n",
      " 6   Route               19380 non-null  object\n",
      " 7   Vehicle             19380 non-null  int64 \n",
      " 8   TransportType       19380 non-null  object\n",
      " 9   Incident            19380 non-null  object\n",
      " 10  delay_type          19380 non-null  object\n",
      " 11  Station_lower       19380 non-null  object\n",
      " 12  Normalized_Station  19380 non-null  object\n",
      " 13  Fuzzy_stations      17057 non-null  object\n",
      "dtypes: int64(2), object(12)\n",
      "memory usage: 2.2+ MB\n"
     ]
    }
   ],
   "source": [
    "subway_df.info()"
   ]
  },
  {
   "cell_type": "code",
   "execution_count": 21,
   "id": "dfa9b847-3493-4858-92fc-e366232b962d",
   "metadata": {},
   "outputs": [
    {
     "name": "stdout",
     "output_type": "stream",
     "text": [
      "<class 'pandas.core.frame.DataFrame'>\n",
      "RangeIndex: 75 entries, 0 to 74\n",
      "Data columns (total 7 columns):\n",
      " #   Column               Non-Null Count  Dtype  \n",
      "---  ------               --------------  -----  \n",
      " 0   Line_name            75 non-null     object \n",
      " 1   Station_name         75 non-null     object \n",
      " 2   Latitude             75 non-null     float64\n",
      " 3   Longtitude           75 non-null     float64\n",
      " 4   wheelchair_boarding  75 non-null     int64  \n",
      " 5   Station_name_lower   75 non-null     object \n",
      " 6   Normalized_Station   75 non-null     object \n",
      "dtypes: float64(2), int64(1), object(4)\n",
      "memory usage: 4.2+ KB\n"
     ]
    }
   ],
   "source": [
    "stations.info()"
   ]
  },
  {
   "cell_type": "code",
   "execution_count": 22,
   "id": "c54ae0ec-faa5-44b3-8e6b-60747beb622b",
   "metadata": {},
   "outputs": [],
   "source": [
    "# Drop 'Normalized_Station' & 'Fuzzy_stations' since it's not required in the final output\n",
    "final_merged_df.drop(columns=['Fuzzy_stations', 'Normalized_Station'], inplace=True)"
   ]
  },
  {
   "cell_type": "code",
   "execution_count": 23,
   "id": "f06b6e5f-ceef-48fc-a13c-122d5240c957",
   "metadata": {},
   "outputs": [
    {
     "name": "stdout",
     "output_type": "stream",
     "text": [
      "<class 'pandas.core.frame.DataFrame'>\n",
      "RangeIndex: 19380 entries, 0 to 19379\n",
      "Data columns (total 14 columns):\n",
      " #   Column               Non-Null Count  Dtype  \n",
      "---  ------               --------------  -----  \n",
      " 0   Date                 19380 non-null  object \n",
      " 1   TransportType        19380 non-null  object \n",
      " 2   Route                19380 non-null  object \n",
      " 3   Time                 19380 non-null  object \n",
      " 4   Day                  19380 non-null  object \n",
      " 5   Location             19380 non-null  object \n",
      " 6   Incident             19380 non-null  object \n",
      " 7   Min_Delay            19380 non-null  int64  \n",
      " 8   Direction            19380 non-null  object \n",
      " 9   Vehicle              19380 non-null  int64  \n",
      " 10  delay_type           19380 non-null  object \n",
      " 11  Latitude             17057 non-null  float64\n",
      " 12  Longtitude           17057 non-null  float64\n",
      " 13  wheelchair_boarding  17057 non-null  float64\n",
      "dtypes: float64(3), int64(2), object(9)\n",
      "memory usage: 2.1+ MB\n"
     ]
    }
   ],
   "source": [
    "final_merged_df.info()"
   ]
  },
  {
   "cell_type": "code",
   "execution_count": 24,
   "id": "31bfecf0-83b9-4f1b-a0dd-05cbf888c504",
   "metadata": {},
   "outputs": [
    {
     "name": "stdout",
     "output_type": "stream",
     "text": [
      "Merged_subway dataset saved with 17057 records.\n"
     ]
    }
   ],
   "source": [
    "# Filter out unmatched records\n",
    "Merged_subway = final_merged_df[~final_merged_df['Latitude'].isna()]\n",
    "\n",
    "# Save the cleaned dataset\n",
    "Merged_subway.to_csv('C:\\\\Users\\\\Jugal Patel\\\\Desktop\\\\Capstone project\\\\Data_cleaning\\\\Merged_subway.csv', index=False)\n",
    "\n",
    "print(f\"Merged_subway dataset saved with {Merged_subway.shape[0]} records.\")"
   ]
  },
  {
   "cell_type": "code",
   "execution_count": 25,
   "id": "f4a942d0-b8e4-415c-ab5c-69957e5c4c5a",
   "metadata": {},
   "outputs": [
    {
     "data": {
      "text/html": [
       "<div>\n",
       "<style scoped>\n",
       "    .dataframe tbody tr th:only-of-type {\n",
       "        vertical-align: middle;\n",
       "    }\n",
       "\n",
       "    .dataframe tbody tr th {\n",
       "        vertical-align: top;\n",
       "    }\n",
       "\n",
       "    .dataframe thead th {\n",
       "        text-align: right;\n",
       "    }\n",
       "</style>\n",
       "<table border=\"1\" class=\"dataframe\">\n",
       "  <thead>\n",
       "    <tr style=\"text-align: right;\">\n",
       "      <th></th>\n",
       "      <th>Date</th>\n",
       "      <th>TransportType</th>\n",
       "      <th>Route</th>\n",
       "      <th>Time</th>\n",
       "      <th>Day</th>\n",
       "      <th>Location</th>\n",
       "      <th>Incident</th>\n",
       "      <th>Min_Delay</th>\n",
       "      <th>Direction</th>\n",
       "      <th>Vehicle</th>\n",
       "      <th>delay_type</th>\n",
       "      <th>Latitude</th>\n",
       "      <th>Longtitude</th>\n",
       "      <th>wheelchair_boarding</th>\n",
       "    </tr>\n",
       "  </thead>\n",
       "  <tbody>\n",
       "    <tr>\n",
       "      <th>0</th>\n",
       "      <td>01-01-2024</td>\n",
       "      <td>Subway</td>\n",
       "      <td>YU</td>\n",
       "      <td>02:00</td>\n",
       "      <td>Monday</td>\n",
       "      <td>SHEPPARD STATION</td>\n",
       "      <td>Subway</td>\n",
       "      <td>0</td>\n",
       "      <td>N</td>\n",
       "      <td>5491</td>\n",
       "      <td>on-time</td>\n",
       "      <td>NaN</td>\n",
       "      <td>NaN</td>\n",
       "      <td>NaN</td>\n",
       "    </tr>\n",
       "    <tr>\n",
       "      <th>1</th>\n",
       "      <td>01-01-2024</td>\n",
       "      <td>Subway</td>\n",
       "      <td>YU</td>\n",
       "      <td>02:00</td>\n",
       "      <td>Monday</td>\n",
       "      <td>DUNDAS STATION</td>\n",
       "      <td>Subway</td>\n",
       "      <td>0</td>\n",
       "      <td>N</td>\n",
       "      <td>0</td>\n",
       "      <td>on-time</td>\n",
       "      <td>43.656137</td>\n",
       "      <td>-79.380730</td>\n",
       "      <td>1.0</td>\n",
       "    </tr>\n",
       "    <tr>\n",
       "      <th>2</th>\n",
       "      <td>01-01-2024</td>\n",
       "      <td>Subway</td>\n",
       "      <td>YU</td>\n",
       "      <td>02:08</td>\n",
       "      <td>Monday</td>\n",
       "      <td>DUNDAS STATION</td>\n",
       "      <td>Subway</td>\n",
       "      <td>4</td>\n",
       "      <td>N</td>\n",
       "      <td>6051</td>\n",
       "      <td>short</td>\n",
       "      <td>43.656137</td>\n",
       "      <td>-79.380730</td>\n",
       "      <td>1.0</td>\n",
       "    </tr>\n",
       "    <tr>\n",
       "      <th>3</th>\n",
       "      <td>01-01-2024</td>\n",
       "      <td>Subway</td>\n",
       "      <td>BD</td>\n",
       "      <td>02:13</td>\n",
       "      <td>Monday</td>\n",
       "      <td>KENNEDY BD STATION</td>\n",
       "      <td>Subway</td>\n",
       "      <td>10</td>\n",
       "      <td>E</td>\n",
       "      <td>5284</td>\n",
       "      <td>short</td>\n",
       "      <td>43.732118</td>\n",
       "      <td>-79.265698</td>\n",
       "      <td>1.0</td>\n",
       "    </tr>\n",
       "    <tr>\n",
       "      <th>4</th>\n",
       "      <td>01-01-2024</td>\n",
       "      <td>Subway</td>\n",
       "      <td>YU</td>\n",
       "      <td>02:22</td>\n",
       "      <td>Monday</td>\n",
       "      <td>BLOOR STATION</td>\n",
       "      <td>Subway</td>\n",
       "      <td>4</td>\n",
       "      <td>N</td>\n",
       "      <td>5986</td>\n",
       "      <td>short</td>\n",
       "      <td>NaN</td>\n",
       "      <td>NaN</td>\n",
       "      <td>NaN</td>\n",
       "    </tr>\n",
       "  </tbody>\n",
       "</table>\n",
       "</div>"
      ],
      "text/plain": [
       "         Date TransportType Route   Time     Day            Location Incident  \\\n",
       "0  01-01-2024        Subway    YU  02:00  Monday    SHEPPARD STATION   Subway   \n",
       "1  01-01-2024        Subway    YU  02:00  Monday      DUNDAS STATION   Subway   \n",
       "2  01-01-2024        Subway    YU  02:08  Monday      DUNDAS STATION   Subway   \n",
       "3  01-01-2024        Subway    BD  02:13  Monday  KENNEDY BD STATION   Subway   \n",
       "4  01-01-2024        Subway    YU  02:22  Monday       BLOOR STATION   Subway   \n",
       "\n",
       "   Min_Delay Direction  Vehicle delay_type   Latitude  Longtitude  \\\n",
       "0          0         N     5491    on-time        NaN         NaN   \n",
       "1          0         N        0    on-time  43.656137  -79.380730   \n",
       "2          4         N     6051      short  43.656137  -79.380730   \n",
       "3         10         E     5284      short  43.732118  -79.265698   \n",
       "4          4         N     5986      short        NaN         NaN   \n",
       "\n",
       "   wheelchair_boarding  \n",
       "0                  NaN  \n",
       "1                  1.0  \n",
       "2                  1.0  \n",
       "3                  1.0  \n",
       "4                  NaN  "
      ]
     },
     "execution_count": 25,
     "metadata": {},
     "output_type": "execute_result"
    }
   ],
   "source": [
    "final_merged_df.head()"
   ]
  },
  {
   "cell_type": "code",
   "execution_count": null,
   "id": "49a002ed-1a57-486c-8209-fbadf4481035",
   "metadata": {},
   "outputs": [],
   "source": []
  }
 ],
 "metadata": {
  "kernelspec": {
   "display_name": "Python 3 (ipykernel)",
   "language": "python",
   "name": "python3"
  },
  "language_info": {
   "codemirror_mode": {
    "name": "ipython",
    "version": 3
   },
   "file_extension": ".py",
   "mimetype": "text/x-python",
   "name": "python",
   "nbconvert_exporter": "python",
   "pygments_lexer": "ipython3",
   "version": "3.11.7"
  }
 },
 "nbformat": 4,
 "nbformat_minor": 5
}
