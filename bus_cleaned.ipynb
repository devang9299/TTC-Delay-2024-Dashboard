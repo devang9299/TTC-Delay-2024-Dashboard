{
 "cells": [
  {
   "cell_type": "code",
   "execution_count": 1,
   "id": "a016f9ee-c03f-486f-bb61-2684f03a0d5f",
   "metadata": {},
   "outputs": [],
   "source": [
    "import pandas as pd\n",
    "import numpy as np\n",
    "from string import punctuation\n",
    "from datetime import datetime\n",
    "import matplotlib.pyplot as plt\n",
    "import seaborn as sns\n",
    "import re\n",
    "import os\n",
    "from rapidfuzz import fuzz, process"
   ]
  },
  {
   "cell_type": "code",
   "execution_count": 2,
   "id": "f3381dc9-fe24-4039-8003-2887d532bf45",
   "metadata": {},
   "outputs": [],
   "source": [
    "bus_df = pd.read_csv('ttc-bus-delay-data-2024.csv')\n",
    "stops_df = pd.read_csv('stops_cleaned.csv')"
   ]
  },
  {
   "cell_type": "code",
   "execution_count": 3,
   "id": "5edc6a43-c9d6-4eeb-8447-1594e976909a",
   "metadata": {},
   "outputs": [],
   "source": [
    "bus_df.columns = [s.strip().replace(' ','_') for s in bus_df.columns]"
   ]
  },
  {
   "cell_type": "markdown",
   "id": "495e9bef-71e4-4bf1-aa90-81a56b8653e3",
   "metadata": {},
   "source": [
    "### Adding new neccesary columns"
   ]
  },
  {
   "cell_type": "code",
   "execution_count": 4,
   "id": "06a623e0-6a26-41fe-a858-465d3251fd6b",
   "metadata": {},
   "outputs": [],
   "source": [
    "bus_df.loc[:,'TransportType'] = 'Bus'\n",
    "bus_df = bus_df.drop(columns = ['Min_Gap'])"
   ]
  },
  {
   "cell_type": "code",
   "execution_count": 5,
   "id": "2a0571ef-4e45-4950-8af7-bc4efc3c7ff7",
   "metadata": {},
   "outputs": [
    {
     "name": "stdout",
     "output_type": "stream",
     "text": [
      "<class 'pandas.core.frame.DataFrame'>\n",
      "RangeIndex: 45300 entries, 0 to 45299\n",
      "Data columns (total 10 columns):\n",
      " #   Column         Non-Null Count  Dtype \n",
      "---  ------         --------------  ----- \n",
      " 0   Date           45300 non-null  object\n",
      " 1   Route          44861 non-null  object\n",
      " 2   Time           45300 non-null  object\n",
      " 3   Day            45300 non-null  object\n",
      " 4   Location       45300 non-null  object\n",
      " 5   Incident       45300 non-null  object\n",
      " 6   Min_Delay      45300 non-null  int64 \n",
      " 7   Direction      38343 non-null  object\n",
      " 8   Vehicle        45300 non-null  int64 \n",
      " 9   TransportType  45300 non-null  object\n",
      "dtypes: int64(2), object(8)\n",
      "memory usage: 3.5+ MB\n"
     ]
    }
   ],
   "source": [
    "bus_df.info()"
   ]
  },
  {
   "cell_type": "code",
   "execution_count": 6,
   "id": "cdd8588a-e568-4ee6-990f-e5346194631b",
   "metadata": {},
   "outputs": [
    {
     "data": {
      "text/plain": [
       "Date              274\n",
       "Route             256\n",
       "Time             1440\n",
       "Day                 7\n",
       "Location         8889\n",
       "Incident           12\n",
       "Min_Delay         496\n",
       "Direction          12\n",
       "Vehicle          2353\n",
       "TransportType       1\n",
       "dtype: int64"
      ]
     },
     "execution_count": 6,
     "metadata": {},
     "output_type": "execute_result"
    }
   ],
   "source": [
    "bus_df.nunique()"
   ]
  },
  {
   "cell_type": "markdown",
   "id": "a316f19d-e31f-499d-9bbf-012b4ec6b954",
   "metadata": {},
   "source": [
    "### 1.1 Missing Values"
   ]
  },
  {
   "cell_type": "code",
   "execution_count": 7,
   "id": "883c745a-b1e0-4e32-b40f-a0bc7f9534eb",
   "metadata": {},
   "outputs": [
    {
     "data": {
      "text/plain": [
       "Date                0\n",
       "Route             439\n",
       "Time                0\n",
       "Day                 0\n",
       "Location            0\n",
       "Incident            0\n",
       "Min_Delay           0\n",
       "Direction        6957\n",
       "Vehicle             0\n",
       "TransportType       0\n",
       "dtype: int64"
      ]
     },
     "execution_count": 7,
     "metadata": {},
     "output_type": "execute_result"
    }
   ],
   "source": [
    "bus_df.isnull().sum()"
   ]
  },
  {
   "cell_type": "markdown",
   "id": "ba5f2c0b-06eb-4995-b376-db44da1c53f9",
   "metadata": {},
   "source": [
    "### 1.2 Date and Time Formatting "
   ]
  },
  {
   "cell_type": "code",
   "execution_count": 8,
   "id": "92337392-f79c-4d2a-ab22-500c67476d8b",
   "metadata": {},
   "outputs": [],
   "source": [
    "# Function to split the date\n",
    "def split_date(date_str):\n",
    "    # Convert the date string to a datetime object\n",
    "    # Check if date is in 1-Jan-24 format\n",
    "    if re.match(r\"\\d{1,2}-[A-Za-z]{3,4}-\\d{2}\", date_str):\n",
    "        date_obj = pd.to_datetime(date_str, format='%d-%b-%y')\n",
    "    # Check if date is in 2024-01-01 format\n",
    "    elif re.match(r\"\\d{4}-\\d{2}-\\d{2}\", date_str):\n",
    "        date_obj = pd.to_datetime(date_str, format='%Y-%m-%d')\n",
    "    else:\n",
    "        raise ValueError(f\"Unknown date format: {date_str}\")\n",
    "\n",
    "    # Extract day, month, and year\n",
    "    day = date_obj.day\n",
    "    month = date_obj.month\n",
    "    year = date_obj.year\n",
    "\n",
    "    # Standardize to DD-MM-YYYY\n",
    "    return datetime(year, month, day).strftime(\"%d-%m-%Y\")"
   ]
  },
  {
   "cell_type": "code",
   "execution_count": 9,
   "id": "1cd95ef9-6495-4a1e-964b-cc5a6e6bafb1",
   "metadata": {},
   "outputs": [],
   "source": [
    "bus_df.loc[:, 'Date'] = bus_df.loc[:,'Date'].apply(split_date)"
   ]
  },
  {
   "cell_type": "markdown",
   "id": "1d0a70de-9660-4d2b-9d48-a85159391d10",
   "metadata": {},
   "source": [
    "### 1.3 Delays"
   ]
  },
  {
   "cell_type": "code",
   "execution_count": 10,
   "id": "9604b424-371e-4371-a849-d71b34da13dd",
   "metadata": {},
   "outputs": [],
   "source": [
    "# on time is 0 mins delays\n",
    "# short delay is 1 to 15 mins.\n",
    "# medium delay is 15 to 30 mins.\n",
    "# long delay is more than 30 mins.\n",
    "def delay_type(col):\n",
    "    if col == 0 :\n",
    "        return 'on-time'\n",
    "    elif col >= 1 and col <= 15:\n",
    "        return 'short'\n",
    "    elif col > 15 and col <= 30:\n",
    "        return 'medium'\n",
    "    elif col > 30:\n",
    "        return 'long'\n",
    "\n",
    "# apply delay_type function\n",
    "bus_df['delay_type'] = bus_df['Min_Delay'].apply(delay_type)"
   ]
  },
  {
   "cell_type": "code",
   "execution_count": 11,
   "id": "4089fbec-68e5-4e47-8fc7-695e491cff8b",
   "metadata": {},
   "outputs": [
    {
     "data": {
      "image/png": "[encoded data removed]",
      "text/plain": [
       "<Figure size 600x400 with 1 Axes>"
      ]
     },
     "metadata": {},
     "output_type": "display_data"
    }
   ],
   "source": [
    "datasets = [bus_df]\n",
    "titles = ['Bus Delay Types']\n",
    "delay_type_order = ['on-time', 'short', 'medium', 'long']\n",
    "\n",
    "# Loop through each dataset and create a separate plot\n",
    "for i, df in enumerate(datasets):\n",
    "    plt.figure(figsize=(6, 4))\n",
    "    sns.countplot(x='delay_type', data=df, order=delay_type_order)\n",
    "    plt.title(f'Frequency of Different {titles[i]}')\n",
    "    plt.tight_layout()\n",
    "    plt.show()"
   ]
  },
  {
   "cell_type": "markdown",
   "id": "a1755dc4-bd11-4874-9e3a-8ff368729a6a",
   "metadata": {},
   "source": [
    "### 1.4 Filtering out Irrelevent Directions"
   ]
  },
  {
   "cell_type": "code",
   "execution_count": 12,
   "id": "7584c71f-61e1-4006-bf12-4235db226461",
   "metadata": {},
   "outputs": [],
   "source": [
    "# function to simplify direction in to N,S,E,W,B and NaN.\n",
    "def direction_filter(direction):\n",
    "    # convert all lowercase characters to uppercase, replace punctuations with empty space and remove leading and the trailing spaces.\n",
    "    direction = str(direction).upper().replace(rf'[{punctuation}]', '').strip()\n",
    "    if 'N' in direction:\n",
    "        return 'N'\n",
    "    elif 'S' in direction:\n",
    "        return 'S'\n",
    "    elif 'E' in direction:\n",
    "        return 'E'\n",
    "    elif 'W' in direction:\n",
    "        return 'W'\n",
    "    elif 'B' in direction:\n",
    "        return 'B'\n",
    "    else:\n",
    "        'NaN'\n",
    "\n",
    "bus_df['Direction'] = bus_df['Direction'].apply(direction_filter)"
   ]
  },
  {
   "cell_type": "code",
   "execution_count": 13,
   "id": "a83b4003-36aa-4d54-a997-eb316a98fb9f",
   "metadata": {},
   "outputs": [
    {
     "data": {
      "image/png": "[encoded data removed]",
      "text/plain": [
       "<Figure size 600x400 with 1 Axes>"
      ]
     },
     "metadata": {},
     "output_type": "display_data"
    }
   ],
   "source": [
    "datasets = [bus_df]\n",
    "titles = ['Bus Direction Types']\n",
    "Direction_order = ['N', 'S', 'E', 'W', 'B']\n",
    "\n",
    "for i, df in enumerate(datasets):\n",
    "    plt.figure(figsize=(6, 4))\n",
    "    sns.countplot(x='Direction', data=df, order=Direction_order)\n",
    "    plt.title(f'Frequency of Different {titles[i]}')\n",
    "    plt.tight_layout()\n",
    "    plt.show()"
   ]
  },
  {
   "cell_type": "code",
   "execution_count": 14,
   "id": "3da5aa50-524b-4ef1-ad01-280e3a9427d3",
   "metadata": {},
   "outputs": [],
   "source": [
    "bus_df = bus_df.dropna(subset = ['Route', 'Direction'])"
   ]
  },
  {
   "cell_type": "code",
   "execution_count": 15,
   "id": "e84b09f4-ac42-4583-ae67-cd48169b3138",
   "metadata": {},
   "outputs": [
    {
     "data": {
      "text/plain": [
       "Date             0\n",
       "Route            0\n",
       "Time             0\n",
       "Day              0\n",
       "Location         0\n",
       "Incident         0\n",
       "Min_Delay        0\n",
       "Direction        0\n",
       "Vehicle          0\n",
       "TransportType    0\n",
       "delay_type       0\n",
       "dtype: int64"
      ]
     },
     "execution_count": 15,
     "metadata": {},
     "output_type": "execute_result"
    }
   ],
   "source": [
    "bus_df.isnull().sum()"
   ]
  },
  {
   "cell_type": "markdown",
   "id": "30d7c30a-696f-4206-8548-9a4c50cd25b0",
   "metadata": {},
   "source": [
    "### Joining columns of stops.csv & bus data"
   ]
  },
  {
   "cell_type": "code",
   "execution_count": 16,
   "id": "e6aa118b-b5c5-4b23-bf6a-b4e02ce36ffc",
   "metadata": {},
   "outputs": [],
   "source": [
    "stops_df = stops_df.drop(columns=['stop_id', 'stop_code', 'stop_desc', 'zone_id', 'stop_url', 'location_type', 'parent_station', 'stop_timezone'])\n",
    "stops_df['Latitude'] = stops_df['stop_lat']\n",
    "stops_df['Longtitude'] = stops_df['stop_lon']"
   ]
  },
  {
   "cell_type": "markdown",
   "id": "99f56020-654f-4cdc-a32a-9278ff73b366",
   "metadata": {},
   "source": [
    "### Normalizing text in both datasets"
   ]
  },
  {
   "cell_type": "code",
   "execution_count": 17,
   "id": "e0fd5276-a383-44a5-b8ab-8ac7ae38d10a",
   "metadata": {},
   "outputs": [
    {
     "name": "stderr",
     "output_type": "stream",
     "text": [
      "C:\\Users\\Jugal Patel\\AppData\\Local\\Temp\\ipykernel_31364\\824950751.py:21: SettingWithCopyWarning: \n",
      "A value is trying to be set on a copy of a slice from a DataFrame.\n",
      "Try using .loc[row_indexer,col_indexer] = value instead\n",
      "\n",
      "See the caveats in the documentation: https://pandas.pydata.org/pandas-docs/stable/user_guide/indexing.html#returning-a-view-versus-a-copy\n",
      "  bus_df.loc[:, 'Normalized_Location'] = bus_df.loc[:, 'Location'].apply(normalize_text)\n"
     ]
    }
   ],
   "source": [
    "#from rapidfuzz import fuzz, process\n",
    "\n",
    "# Function to normalize text (expand abbreviations and remove unnecessary words)\n",
    "def normalize_text(text):\n",
    "    text = text.lower()\n",
    "    text = text.replace(' st ', ' ')\n",
    "    text = text.replace(' ave ', ' ')\n",
    "    text = text.replace(' avenue ', ' ')\n",
    "    text = text.replace(' street ', ' ')\n",
    "    text = text.replace(' at ', ' ')\n",
    "    text = text.replace(' and ', ' ')\n",
    "    text = text.replace(' side ', ' ')\n",
    "    text = text.replace(' hwy ', ' highway ')    \n",
    "    text = text.replace(' east ', ' ')\n",
    "    text = text.replace(' west ', ' ')\n",
    "    text = text.replace(' north ', ' ')\n",
    "    text = text.replace(' south ', ' ')\n",
    "    return text.strip()\n",
    "\n",
    "# Normalize the relevant columns\n",
    "bus_df.loc[:, 'Normalized_Location'] = bus_df.loc[:, 'Location'].apply(normalize_text)\n",
    "stops_df.loc[:, 'Normalized_stop_name'] = stops_df.loc[:, 'stop_name'].apply(normalize_text)"
   ]
  },
  {
   "cell_type": "markdown",
   "id": "e2d20af1-6f77-49f2-8ac1-7bd0d966a8a7",
   "metadata": {},
   "source": [
    "### Using fuzzy matching"
   ]
  },
  {
   "cell_type": "code",
   "execution_count": 18,
   "id": "77b28a48-7cd5-485c-b599-910f4bdb26de",
   "metadata": {},
   "outputs": [],
   "source": [
    "# Perform fuzzy matching for unmatched records\n",
    "def fuzzy_match(location, stop_names, threshold=80):\n",
    "    match = process.extractOne(location, stop_names, scorer=fuzz.token_set_ratio)\n",
    "    if match and match[1] >= threshold:\n",
    "        return match[0]  # Return the best match if similarity exceeds the threshold\n",
    "    return None"
   ]
  },
  {
   "cell_type": "code",
   "execution_count": 19,
   "id": "af9e65f2-cbe3-4135-b8a1-9d0572942de4",
   "metadata": {},
   "outputs": [
    {
     "name": "stderr",
     "output_type": "stream",
     "text": [
      "C:\\Users\\Jugal Patel\\AppData\\Local\\Temp\\ipykernel_31364\\575618840.py:5: SettingWithCopyWarning: \n",
      "A value is trying to be set on a copy of a slice from a DataFrame.\n",
      "Try using .loc[row_indexer,col_indexer] = value instead\n",
      "\n",
      "See the caveats in the documentation: https://pandas.pydata.org/pandas-docs/stable/user_guide/indexing.html#returning-a-view-versus-a-copy\n",
      "  bus_df.loc[:, 'Fuzzy_stop_name'] = bus_df.loc[:, 'Normalized_Location'].apply(\n"
     ]
    }
   ],
   "source": [
    "# Create a list of normalized stop names for matching\n",
    "normalized_stop_names = stops_df['Normalized_stop_name'].tolist()\n",
    "\n",
    "# Apply fuzzy matching\n",
    "bus_df.loc[:, 'Fuzzy_stop_name'] = bus_df.loc[:, 'Normalized_Location'].apply(\n",
    "    lambda x: fuzzy_match(x, normalized_stop_names)\n",
    ")"
   ]
  },
  {
   "cell_type": "code",
   "execution_count": 20,
   "id": "f0d8dafe-0692-4b8e-953a-46f6ab662bd7",
   "metadata": {},
   "outputs": [],
   "source": [
    "# Select required columns from bus_df and stops_df\n",
    "bus_columns = ['Date', 'TransportType', 'Route', 'Time', 'Day', 'Location', 'Incident', 'Min_Delay', 'Direction', 'Vehicle', 'delay_type', 'Fuzzy_stop_name']\n",
    "stops_columns = ['Latitude', 'Longtitude', 'wheelchair_boarding']\n",
    "\n",
    "# Merge the datasets while retaining all records from bus_df and matched stop details\n",
    "merged_data_fuzzy = pd.merge(\n",
    "    bus_df[bus_columns],\n",
    "    stops_df[stops_columns + ['Normalized_stop_name']],\n",
    "    left_on='Fuzzy_stop_name',\n",
    "    right_on='Normalized_stop_name',\n",
    "    how='left'\n",
    ")"
   ]
  },
  {
   "cell_type": "code",
   "execution_count": 21,
   "id": "1e904921-4dee-4a69-8e2c-587b6da9cdf5",
   "metadata": {},
   "outputs": [],
   "source": [
    "# Check unmatched records\n",
    "unmatched_fuzzy_records = merged_data_fuzzy[merged_data_fuzzy['Normalized_stop_name'].isna()]\n",
    "unmatched_fuzzy_count = unmatched_fuzzy_records.shape[0]"
   ]
  },
  {
   "cell_type": "code",
   "execution_count": 22,
   "id": "1d915eb5-fcc7-4f36-8855-dd28092a0387",
   "metadata": {},
   "outputs": [
    {
     "data": {
      "text/plain": [
       "3589"
      ]
     },
     "execution_count": 22,
     "metadata": {},
     "output_type": "execute_result"
    }
   ],
   "source": [
    "unmatched_fuzzy_count"
   ]
  },
  {
   "cell_type": "raw",
   "id": "b1072273-91aa-4249-8a46-196b80d867e5",
   "metadata": {},
   "source": [
    "unmatched_fuzzy_records.to_csv('Unmatched_Fuzzy_Records_3591.csv', index=False)"
   ]
  },
  {
   "cell_type": "code",
   "execution_count": 23,
   "id": "3d344661-67aa-4038-baaa-b4ea429d0ca0",
   "metadata": {},
   "outputs": [],
   "source": [
    "# Drop 'Normalized_stop_name' & 'Fuzzy_stop_name' since it's not required in the final output\n",
    "merged_data_fuzzy.drop(columns=['Normalized_stop_name', 'Fuzzy_stop_name'], inplace=True)"
   ]
  },
  {
   "cell_type": "code",
   "execution_count": 24,
   "id": "7ba09f41-88c9-4514-8a49-fd545312b021",
   "metadata": {},
   "outputs": [
    {
     "name": "stdout",
     "output_type": "stream",
     "text": [
      "Cleaned bus dataset saved with 44684 records.\n"
     ]
    }
   ],
   "source": [
    "# Filter out unmatched records\n",
    "cleaned_bus_df = merged_data_fuzzy[~merged_data_fuzzy['Latitude'].isna()]\n",
    "\n",
    "# Save the cleaned dataset\n",
    "cleaned_bus_df.to_csv('C:\\\\Users\\\\Jugal Patel\\\\Desktop\\\\Capstone project\\\\Data_cleaning\\\\Merged_bus.csv', index=False)\n",
    "\n",
    "print(f\"Cleaned bus dataset saved with {cleaned_bus_df.shape[0]} records.\")"
   ]
  },
  {
   "cell_type": "code",
   "execution_count": 25,
   "id": "5a08a73a-1f30-4a36-9f1a-99d72ed6a947",
   "metadata": {},
   "outputs": [
    {
     "data": {
      "text/html": [
       "<div>\n",
       "<style scoped>\n",
       "    .dataframe tbody tr th:only-of-type {\n",
       "        vertical-align: middle;\n",
       "    }\n",
       "\n",
       "    .dataframe tbody tr th {\n",
       "        vertical-align: top;\n",
       "    }\n",
       "\n",
       "    .dataframe thead th {\n",
       "        text-align: right;\n",
       "    }\n",
       "</style>\n",
       "<table border=\"1\" class=\"dataframe\">\n",
       "  <thead>\n",
       "    <tr style=\"text-align: right;\">\n",
       "      <th></th>\n",
       "      <th>Date</th>\n",
       "      <th>TransportType</th>\n",
       "      <th>Route</th>\n",
       "      <th>Time</th>\n",
       "      <th>Day</th>\n",
       "      <th>Location</th>\n",
       "      <th>Incident</th>\n",
       "      <th>Min_Delay</th>\n",
       "      <th>Direction</th>\n",
       "      <th>Vehicle</th>\n",
       "      <th>delay_type</th>\n",
       "      <th>Latitude</th>\n",
       "      <th>Longtitude</th>\n",
       "      <th>wheelchair_boarding</th>\n",
       "    </tr>\n",
       "  </thead>\n",
       "  <tbody>\n",
       "    <tr>\n",
       "      <th>0</th>\n",
       "      <td>01-01-2024</td>\n",
       "      <td>Bus</td>\n",
       "      <td>89</td>\n",
       "      <td>02:08</td>\n",
       "      <td>Monday</td>\n",
       "      <td>KEELE AND GLENLAKE</td>\n",
       "      <td>Vision</td>\n",
       "      <td>10</td>\n",
       "      <td>N</td>\n",
       "      <td>7107</td>\n",
       "      <td>short</td>\n",
       "      <td>43.658499</td>\n",
       "      <td>-79.461695</td>\n",
       "      <td>1.0</td>\n",
       "    </tr>\n",
       "    <tr>\n",
       "      <th>1</th>\n",
       "      <td>01-01-2024</td>\n",
       "      <td>Bus</td>\n",
       "      <td>39</td>\n",
       "      <td>02:30</td>\n",
       "      <td>Monday</td>\n",
       "      <td>FINCH STATION</td>\n",
       "      <td>General Delay</td>\n",
       "      <td>20</td>\n",
       "      <td>N</td>\n",
       "      <td>8914</td>\n",
       "      <td>medium</td>\n",
       "      <td>43.764093</td>\n",
       "      <td>-79.490996</td>\n",
       "      <td>1.0</td>\n",
       "    </tr>\n",
       "    <tr>\n",
       "      <th>2</th>\n",
       "      <td>01-01-2024</td>\n",
       "      <td>Bus</td>\n",
       "      <td>39</td>\n",
       "      <td>02:30</td>\n",
       "      <td>Monday</td>\n",
       "      <td>FINCH STATION</td>\n",
       "      <td>General Delay</td>\n",
       "      <td>20</td>\n",
       "      <td>N</td>\n",
       "      <td>8914</td>\n",
       "      <td>medium</td>\n",
       "      <td>43.763952</td>\n",
       "      <td>-79.491402</td>\n",
       "      <td>1.0</td>\n",
       "    </tr>\n",
       "    <tr>\n",
       "      <th>3</th>\n",
       "      <td>01-01-2024</td>\n",
       "      <td>Bus</td>\n",
       "      <td>300</td>\n",
       "      <td>03:13</td>\n",
       "      <td>Monday</td>\n",
       "      <td>BLOOR AND MANNING</td>\n",
       "      <td>General Delay</td>\n",
       "      <td>0</td>\n",
       "      <td>N</td>\n",
       "      <td>8562</td>\n",
       "      <td>on-time</td>\n",
       "      <td>43.664160</td>\n",
       "      <td>-79.415911</td>\n",
       "      <td>1.0</td>\n",
       "    </tr>\n",
       "    <tr>\n",
       "      <th>4</th>\n",
       "      <td>01-01-2024</td>\n",
       "      <td>Bus</td>\n",
       "      <td>65</td>\n",
       "      <td>03:23</td>\n",
       "      <td>Monday</td>\n",
       "      <td>PARLIAMENT AND BLOOR</td>\n",
       "      <td>Security</td>\n",
       "      <td>0</td>\n",
       "      <td>N</td>\n",
       "      <td>8574</td>\n",
       "      <td>on-time</td>\n",
       "      <td>43.672194</td>\n",
       "      <td>-79.370653</td>\n",
       "      <td>2.0</td>\n",
       "    </tr>\n",
       "  </tbody>\n",
       "</table>\n",
       "</div>"
      ],
      "text/plain": [
       "         Date TransportType Route   Time     Day              Location  \\\n",
       "0  01-01-2024           Bus    89  02:08  Monday    KEELE AND GLENLAKE   \n",
       "1  01-01-2024           Bus    39  02:30  Monday         FINCH STATION   \n",
       "2  01-01-2024           Bus    39  02:30  Monday         FINCH STATION   \n",
       "3  01-01-2024           Bus   300  03:13  Monday     BLOOR AND MANNING   \n",
       "4  01-01-2024           Bus    65  03:23  Monday  PARLIAMENT AND BLOOR   \n",
       "\n",
       "        Incident  Min_Delay Direction  Vehicle delay_type   Latitude  \\\n",
       "0         Vision         10         N     7107      short  43.658499   \n",
       "1  General Delay         20         N     8914     medium  43.764093   \n",
       "2  General Delay         20         N     8914     medium  43.763952   \n",
       "3  General Delay          0         N     8562    on-time  43.664160   \n",
       "4       Security          0         N     8574    on-time  43.672194   \n",
       "\n",
       "   Longtitude  wheelchair_boarding  \n",
       "0  -79.461695                  1.0  \n",
       "1  -79.490996                  1.0  \n",
       "2  -79.491402                  1.0  \n",
       "3  -79.415911                  1.0  \n",
       "4  -79.370653                  2.0  "
      ]
     },
     "execution_count": 25,
     "metadata": {},
     "output_type": "execute_result"
    }
   ],
   "source": [
    "merged_data_fuzzy.head()"
   ]
  },
  {
   "cell_type": "code",
   "execution_count": null,
   "id": "ee25addc-ff41-4326-b6fa-8eae26ce6889",
   "metadata": {},
   "outputs": [],
   "source": []
  }
 ],
 "metadata": {
  "kernelspec": {
   "display_name": "Python 3 (ipykernel)",
   "language": "python",
   "name": "python3"
  },
  "language_info": {
   "codemirror_mode": {
    "name": "ipython",
    "version": 3
   },
   "file_extension": ".py",
   "mimetype": "text/x-python",
   "name": "python",
   "nbconvert_exporter": "python",
   "pygments_lexer": "ipython3",
   "version": "3.11.7"
  }
 },
 "nbformat": 4,
 "nbformat_minor": 5
}
